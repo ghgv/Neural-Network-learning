{
 "cells": [
  {
   "cell_type": "code",
   "execution_count": null,
   "id": "2a191446",
   "metadata": {},
   "outputs": [],
   "source": [
    "import torch\n",
    "import math\n",
    "import numpy as np\n",
    "from matplotlib import pyplot as plt\n",
    "import matplotlib.pyplot as plt\n",
    "from mpl_toolkits.mplot3d import Axes3D # <--- This is important for 3d plotting "
   ]
  },
  {
   "cell_type": "code",
   "execution_count": null,
   "id": "52b21825",
   "metadata": {},
   "outputs": [],
   "source": [
    "torch.manual_seed(298630698)"
   ]
  },
  {
   "cell_type": "code",
   "execution_count": null,
   "id": "677c72d6",
   "metadata": {},
   "outputs": [],
   "source": [
    "x = torch.tensor(((1,0,2),(-1,0,2),(0,2,2),(0,-2,2),(1,0,1)),requires_grad=False,dtype=torch.float32)\n",
    "\n",
    "b1 = torch.tensor((0,0,0),requires_grad=True,dtype=torch.float32)\n",
    "b2 = torch.tensor((0,0,0),requires_grad=True,dtype=torch.float32)\n",
    "b3= torch.zeros((3,),requires_grad=True,dtype=torch.float32)\n",
    "b4= torch.zeros((3,),requires_grad=True,dtype=torch.float32)\n",
    "b5= torch.zeros((3,),requires_grad=True,dtype=torch.float32)\n",
    "b6= torch.zeros((3,),requires_grad=True,dtype=torch.float32)\n",
    "\n",
    "w1 = torch.tensor(((1,0,0),(0,1,0),(0,0,1)),requires_grad=True,dtype=torch.float32)\n",
    "w2 = torch.tensor(((1,0,0),(0,1,0),(0,0,1)),requires_grad=True,dtype=torch.float32)\n",
    "w3 = torch.tensor(((1,0,0),(0,1,0),(0,0,1)),requires_grad=True,dtype=torch.float32)\n",
    "w4 = torch.tensor(((1,0,0),(0,1,0),(0,0,1)),requires_grad=True,dtype=torch.float32)\n",
    "w5 = torch.tensor(((1,0,0),(0,1,0),(0,0,1)),requires_grad=True,dtype=torch.float32)\n",
    "w6 = torch.tensor(((1,0,0),(0,1,0),(0,0,1)),requires_grad=True,dtype=torch.float32)\n",
    "\n",
    "y = torch.tensor(((1,0,0),(1,0,0),(0,1,0),(0,1,0),(1,0,0)) ,requires_grad=False,dtype=torch.float32)"
   ]
  },
  {
   "cell_type": "code",
   "execution_count": null,
   "id": "25623b74",
   "metadata": {},
   "outputs": [],
   "source": [
    "x.to(\"cuda:0\")\n",
    "w1.to(\"cuda:0\")\n",
    "b1.to(\"cuda:0\")\n",
    "w2.to(\"cuda:0\")\n",
    "b2.to(\"cuda:0\")\n",
    "w3.to(\"cuda:0\")\n",
    "b3.to(\"cuda:0\")\n",
    "b4.to(\"cuda:0\")\n",
    "b5.to(\"cuda:0\")\n",
    "b6.to(\"cuda:0\")\n",
    "w4.to(\"cuda:0\")\n",
    "w5.to(\"cuda:0\")\n",
    "w6.to(\"cuda:0\")\n",
    "\n",
    "y.to(\"cuda:0\")"
   ]
  },
  {
   "cell_type": "code",
   "execution_count": null,
   "id": "fb211562",
   "metadata": {},
   "outputs": [],
   "source": [
    "w1"
   ]
  },
  {
   "cell_type": "code",
   "execution_count": null,
   "id": "18531c57",
   "metadata": {},
   "outputs": [],
   "source": [
    "w1.retain_grad()\n",
    "b1.retain_grad()\n",
    "w2.retain_grad()\n",
    "b2.retain_grad()\n",
    "w3.retain_grad()\n",
    "b3.retain_grad()\n",
    "b4.retain_grad()\n",
    "b5.retain_grad()\n",
    "b6.retain_grad()\n",
    "w4.retain_grad()\n",
    "w5.retain_grad()\n",
    "w6.retain_grad()\n",
    "k=0"
   ]
  },
  {
   "cell_type": "code",
   "execution_count": null,
   "id": "e65b3d60",
   "metadata": {},
   "outputs": [],
   "source": [
    "\n",
    "for i in range (800):\n",
    "    z1  =  x@ w1 +b1\n",
    "    z11 = torch.tanh(z1)\n",
    "    z2  = z11@ w2+b2\n",
    "    z22 = torch.tanh(z2)\n",
    "    #z3  = z22@ w3+b3\n",
    "    ##z33 = torch.tanh(z3)\n",
    "    #z4  = z33@ w4+b4\n",
    "    #z44 = torch.tanh(z4)\n",
    "    #z5  = z44@ w5+b5ax.autoscale(tight=False)\n",
    "    #z55 = torch.tanh(z5)\n",
    "    #z6  = z55@ w6+b6\n",
    "    #z66 = torch.tanh(z6)\n",
    "    f=    z22#torch.softmax(z3,dim=1)\n",
    "    loss = torch.nn.CrossEntropyLoss()\n",
    "    w1.grad=None\n",
    "    b1.grad =None\n",
    "    w2.grad=None\n",
    "    b2.grad =None\n",
    "    #w3.grad=None\n",
    "    #b3.grad =None\n",
    "    #w4.grad=None\n",
    "    #w5.grad=None\n",
    "    #w6.grad=None\n",
    "    r=0.01\n",
    "    output = torch.sum((f-y)**2)\n",
    "    #print((output.shape))\n",
    "    output.backward()\n",
    "    w1.data+=-r*w1.grad\n",
    "    w2.data+=-r*w2.grad\n",
    "    #w3.data+=-r*w3.grad\n",
    "    #w4.data+=-r*w4.grad\n",
    "    #w5.data+=-r*w5.grad\n",
    "    #w6.data+=-r*w6.grad\n",
    "    \n",
    "    b1.data+=-r*b1.grad\n",
    "    b2.data+=-r*b2.grad\n",
    "    #b3.data+=-r*b3.grad\n",
    "    #b4.data+=-r*b4.grad\n",
    "    #b5.data+=-r*b5.grad\n",
    "    #b6.data+=-r*b5.grad\n",
    "\n",
    "    fig = plt.figure(dpi=400) \n",
    "    ax = plt.axes(projection='3d')\n",
    "    ax.set_xlim3d([-1, 1])\n",
    "    ax.set_ylim3d([-1, 1])\n",
    "    ax.set_zlim3d([-1, 1])\n",
    "    C = np.array([[255, 0, 0], [255, 0, 0], [0, 0, 255],[0, 0, 255],[255, 0, 0]])\n",
    "    g=f.detach().numpy()\n",
    "    xdata = g[:,0]\n",
    "    ydata = g[:,1]\n",
    "    zdata = g[:,2]\n",
    "    ax.scatter3D(xdata,ydata,zdata,  c = C/255.0);\n",
    "    name=\"figura\"+str(k)+\".png\"\n",
    "    k+=1\n",
    "    fig.savefig(name)\n",
    "    \n",
    "    \n",
    "print(output)"
   ]
  },
  {
   "cell_type": "code",
   "execution_count": null,
   "id": "d37f5db7",
   "metadata": {},
   "outputs": [],
   "source": [
    "    z1  =  x@ w1 +b1\n",
    "    z11 = torch.tanh(z1)\n",
    "    z2  = z11@ w2+b2\n",
    "    z22 = torch.tanh(z2)\n",
    "    #z3  = z22@ w3+b3\n",
    "    ##z33 = torch.tanh(z3)\n",
    "    #z4  = z33@ w4+b4\n",
    "    #z44 = torch.tanh(z4)\n",
    "    #z5  = z44@ w5+b5\n",
    "    #z55 = torch.tanh(z5)\n",
    "    #z6  = z55@ w6+b6\n",
    "    #z66 = torch.tanh(z6)\n",
    "    f=    z22#torch.softmax(z3,dim=1)\n"
   ]
  },
  {
   "cell_type": "code",
   "execution_count": null,
   "id": "12ef3597",
   "metadata": {},
   "outputs": [],
   "source": [
    "x"
   ]
  },
  {
   "cell_type": "code",
   "execution_count": null,
   "id": "79014ca7",
   "metadata": {},
   "outputs": [],
   "source": [
    "f"
   ]
  },
  {
   "cell_type": "code",
   "execution_count": null,
   "id": "f275e871",
   "metadata": {},
   "outputs": [],
   "source": [
    "w1"
   ]
  },
  {
   "cell_type": "code",
   "execution_count": null,
   "id": "b69a4d1b",
   "metadata": {},
   "outputs": [],
   "source": [
    "w2"
   ]
  },
  {
   "cell_type": "code",
   "execution_count": null,
   "id": "a34a4855",
   "metadata": {},
   "outputs": [],
   "source": [
    "f\n"
   ]
  },
  {
   "cell_type": "code",
   "execution_count": null,
   "id": "dce62362",
   "metadata": {},
   "outputs": [],
   "source": [
    "x"
   ]
  },
  {
   "cell_type": "code",
   "execution_count": null,
   "id": "65041fbe",
   "metadata": {},
   "outputs": [],
   "source": [
    "    fig = plt.figure()\n",
    "    ax = plt.axes(projection='3d')\n",
    "    ax.set_xlim3d([-1, 1])\n",
    "    ax.set_ylim3d([-1, 1])\n",
    "    ax.set_zlim3d([-1, 1])\n",
    "    # Data for a three-dimensional line\n",
    "    zline = x[:,0] #np.linspace(-5, 5, 1000)\n",
    "    xline = x[:,1] #np.sin(zline)\n",
    "    yline = x[:,2] #np.cos(zline)\n",
    "    #ax.scatter3D(xline, yline, zline, cmap='red')\n",
    "    #ax.scatter3D(xdata,ydata,zdata, c=zdata, cmap='Greens');\n",
    "    #g=torch.transpose(f, 0, 1)\n",
    "    g=f.detach().numpy()\n",
    "    # Data for three-dimensional scattered points\n",
    "    xdata = g[:,0]\n",
    "    ydata = g[:,1]\n",
    "    zdata = g[:,2]\n",
    "    ax.scatter3D(xdata,ydata,zdata,  cmap='Greens');\n",
    "    name=\"figura\"+str(k)+\".png\"\n",
    "    k+=1\n",
    "    fig.savefig(name)\n"
   ]
  },
  {
   "cell_type": "code",
   "execution_count": null,
   "id": "7d97e83e",
   "metadata": {},
   "outputs": [],
   "source": [
    "k"
   ]
  },
  {
   "cell_type": "code",
   "execution_count": null,
   "id": "6a2e1340",
   "metadata": {},
   "outputs": [],
   "source": [
    "\n",
    "import matplotlib.pyplot as plt\n",
    "from mpl_toolkits.mplot3d import Axes3D # <--- This is important for 3d plotting \n",
    "fig = plt.figure()\n",
    "ax = plt.axes(projection='3d')\n",
    "\n",
    "\n",
    "# Data for a three-dimensional line\n",
    "zline = x[:,0] #np.linspace(-5, 5, 1000)\n",
    "xline = x[:,1] #np.sin(zline)\n",
    "yline = x[:,2] #np.cos(zline)\n",
    "ax.scatter3D(xline, yline, zline, cmap='red')\n",
    "#ax.scatter3D(xdata,ydata,zdata, c=zdata, cmap='Greens');\n",
    "#g=torch.transpose(f, 0, 1)\n",
    "#g=f.detach().numpy()\n",
    "# Data for three-dimensional scattered points\n",
    "xdata = g[:,0]\n",
    "ydata = g[:,1]\n",
    "zdata = g[:,2]\n",
    "ax.scatter3D(xdata,ydata,zdata,  cmap='Greens');"
   ]
  },
  {
   "cell_type": "code",
   "execution_count": null,
   "id": "01cc12aa",
   "metadata": {},
   "outputs": [],
   "source": [
    "g"
   ]
  }
 ],
 "metadata": {
  "kernelspec": {
   "display_name": "Python 3 (ipykernel)",
   "language": "python",
   "name": "python3"
  },
  "language_info": {
   "codemirror_mode": {
    "name": "ipython",
    "version": 3
   },
   "file_extension": ".py",
   "mimetype": "text/x-python",
   "name": "python",
   "nbconvert_exporter": "python",
   "pygments_lexer": "ipython3",
   "version": "3.8.10"
  }
 },
 "nbformat": 4,
 "nbformat_minor": 5
}
